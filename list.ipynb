{
 "cells": [
  {
   "cell_type": "code",
   "execution_count": 1,
   "id": "8901cb1c",
   "metadata": {},
   "outputs": [
    {
     "name": "stdout",
     "output_type": "stream",
     "text": [
      "['ilyas', 'super', 'link', 'hyd']\n"
     ]
    }
   ],
   "source": [
    "students=['ilyas','super','link','hyd'] #create a list of students\n",
    "print(students)"
   ]
  },
  {
   "cell_type": "code",
   "execution_count": 2,
   "id": "db235553",
   "metadata": {},
   "outputs": [
    {
     "data": {
      "text/plain": [
       "list"
      ]
     },
     "execution_count": 2,
     "metadata": {},
     "output_type": "execute_result"
    }
   ],
   "source": [
    "type(students)  #data type of students"
   ]
  },
  {
   "cell_type": "code",
   "execution_count": 3,
   "id": "f0a93e61",
   "metadata": {},
   "outputs": [
    {
     "name": "stdout",
     "output_type": "stream",
     "text": [
      "super\n"
     ]
    }
   ],
   "source": [
    "print(students[1])   #print index of 1 "
   ]
  },
  {
   "cell_type": "code",
   "execution_count": 5,
   "id": "b8420f85",
   "metadata": {},
   "outputs": [],
   "source": [
    "students.append('mumbai') #add to the list it will add in the last position"
   ]
  },
  {
   "cell_type": "code",
   "execution_count": 8,
   "id": "30bbffad",
   "metadata": {},
   "outputs": [
    {
     "name": "stdout",
     "output_type": "stream",
     "text": [
      "['ilyas', 'super', 'link', 'hyd', 'mumbai']\n"
     ]
    }
   ],
   "source": [
    "print(students)\n"
   ]
  },
  {
   "cell_type": "code",
   "execution_count": 10,
   "id": "c093f73b",
   "metadata": {},
   "outputs": [],
   "source": [
    "students.insert(2,'hello')  #insert in the indes of 2"
   ]
  },
  {
   "cell_type": "code",
   "execution_count": 12,
   "id": "b2cfa6ca",
   "metadata": {},
   "outputs": [
    {
     "name": "stdout",
     "output_type": "stream",
     "text": [
      "['ilyas', 'super', 'hello', 'link', 'hyd', 'mumbai']\n"
     ]
    }
   ],
   "source": [
    "print(students)"
   ]
  },
  {
   "cell_type": "code",
   "execution_count": 13,
   "id": "ce430bd6",
   "metadata": {},
   "outputs": [],
   "source": [
    "students[2]='abc' # rename form hello to abc"
   ]
  },
  {
   "cell_type": "code",
   "execution_count": 14,
   "id": "6df22b34",
   "metadata": {},
   "outputs": [
    {
     "name": "stdout",
     "output_type": "stream",
     "text": [
      "['ilyas', 'super', 'abc', 'link', 'hyd', 'mumbai']\n"
     ]
    }
   ],
   "source": [
    "print(students)"
   ]
  },
  {
   "cell_type": "code",
   "execution_count": 15,
   "id": "3112f465",
   "metadata": {},
   "outputs": [],
   "source": [
    "del students[2]  # del the abc "
   ]
  },
  {
   "cell_type": "code",
   "execution_count": 16,
   "id": "b7be49b4",
   "metadata": {},
   "outputs": [
    {
     "name": "stdout",
     "output_type": "stream",
     "text": [
      "['ilyas', 'super', 'link', 'hyd', 'mumbai']\n"
     ]
    }
   ],
   "source": [
    "print(students)"
   ]
  },
  {
   "cell_type": "code",
   "execution_count": null,
   "id": "81963b59",
   "metadata": {},
   "outputs": [],
   "source": []
  }
 ],
 "metadata": {
  "kernelspec": {
   "display_name": "Python 3 (ipykernel)",
   "language": "python",
   "name": "python3"
  },
  "language_info": {
   "codemirror_mode": {
    "name": "ipython",
    "version": 3
   },
   "file_extension": ".py",
   "mimetype": "text/x-python",
   "name": "python",
   "nbconvert_exporter": "python",
   "pygments_lexer": "ipython3",
   "version": "3.9.7"
  }
 },
 "nbformat": 4,
 "nbformat_minor": 5
}
